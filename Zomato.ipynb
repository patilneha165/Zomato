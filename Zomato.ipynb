{
  "nbformat": 4,
  "nbformat_minor": 0,
  "metadata": {
    "colab": {
      "provenance": []
    },
    "kernelspec": {
      "name": "python3",
      "display_name": "Python 3"
    },
    "language_info": {
      "name": "python"
    }
  },
  "cells": [
    {
      "cell_type": "code",
      "execution_count": 16,
      "metadata": {
        "colab": {
          "base_uri": "https://localhost:8080/",
          "height": 988
        },
        "id": "ltkA-o3wziA0",
        "outputId": "4447e1e0-7697-4f06-f1e1-d3ca4b77a3ab"
      },
      "outputs": [
        {
          "output_type": "stream",
          "name": "stdout",
          "text": [
            "                    name online_order book_table  rate  votes  \\\n",
            "0                  Jalsa          Yes        Yes   4.1    775   \n",
            "1         Spice Elephant          Yes         No   4.1    787   \n",
            "2        San Churro Cafe          Yes         No   3.8    918   \n",
            "3  Addhuri Udupi Bhojana           No         No   3.7     88   \n",
            "4          Grand Village           No         No   3.8    166   \n",
            "\n",
            "   approx_cost(for two people) listed_in(type)  \n",
            "0                          800          Buffet  \n",
            "1                          800          Buffet  \n",
            "2                          800          Buffet  \n",
            "3                          300          Buffet  \n",
            "4                          600          Buffet  \n",
            "<class 'pandas.core.frame.DataFrame'>\n",
            "RangeIndex: 148 entries, 0 to 147\n",
            "Data columns (total 7 columns):\n",
            " #   Column                       Non-Null Count  Dtype  \n",
            "---  ------                       --------------  -----  \n",
            " 0   name                         148 non-null    object \n",
            " 1   online_order                 148 non-null    object \n",
            " 2   book_table                   148 non-null    object \n",
            " 3   rate                         148 non-null    float64\n",
            " 4   votes                        148 non-null    int64  \n",
            " 5   approx_cost(for two people)  148 non-null    int64  \n",
            " 6   listed_in(type)              148 non-null    object \n",
            "dtypes: float64(1), int64(2), object(4)\n",
            "memory usage: 8.2+ KB\n",
            "Restaurant(s) with the maximum votes:\n",
            "38    Empire Restaurant\n",
            "Name: name, dtype: object\n"
          ]
        },
        {
          "output_type": "execute_result",
          "data": {
            "text/plain": [
              "<Axes: xlabel='online_order', ylabel='count'>"
            ]
          },
          "metadata": {},
          "execution_count": 16
        },
        {
          "output_type": "display_data",
          "data": {
            "text/plain": [
              "<Figure size 640x480 with 1 Axes>"
            ],
            "image/png": "[encoded data removed]"
          },
          "metadata": {}
        }
      ],
      "source": [
        "import pandas as pd\n",
        "import numpy as np\n",
        "import matplotlib.pyplot as plt\n",
        "import seaborn as sns\n",
        "\n",
        "\n",
        "\n",
        "\n",
        "def handleRate(valueRate):\n",
        "    rate2=str(valueRate).split(\"/\")\n",
        "    return float(rate2[0])\n",
        "\n",
        "\n",
        "\n",
        "dataframe = pd.read_csv(r\"/content/sample_data/Zomato_data .csv\")\n",
        "dataframe['rate']=dataframe['rate'].apply(handleRate)\n",
        "print(dataframe.head())\n",
        "\n",
        "dataframe.info()\n",
        "\n",
        "##sns.countplot(x=dataframe['listed_in(type)'])\n",
        "##plt.xlabel(\"Type of restaurant\")\n",
        "\n",
        "\n",
        "##grouped_data = dataframe.groupby('listed_in(type)')['votes'].sum()\n",
        "##result = pd.DataFrame({'votes': grouped_data})\n",
        "##plt.plot(result, c=\"green\", marker=\"o\")\n",
        "##plt.xlabel(\"Type of restaurant\", c=\"red\", size=20)\n",
        "##plt.ylabel(\"Votes\", c=\"red\", size=20)\n",
        "\n",
        "max_votes=dataframe['votes'].max()\n",
        "restaurant_with_max_votes = dataframe.loc[dataframe['votes'] == max_votes, 'name']\n",
        "print(\"Restaurant(s) with the maximum votes:\")\n",
        "print(restaurant_with_max_votes)\n",
        "\n",
        "\n",
        "sns.countplot(x=dataframe['online_order'])\n"
      ]
    }
  ]
}